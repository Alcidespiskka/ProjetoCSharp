{
  "nbformat": 4,
  "nbformat_minor": 0,
  "metadata": {
    "colab": {
      "provenance": [],
      "include_colab_link": true
    },
    "kernelspec": {
      "name": "python3",
      "display_name": "Python 3"
    },
    "language_info": {
      "name": "python"
    }
  },
  "cells": [
    {
      "cell_type": "markdown",
      "metadata": {
        "id": "view-in-github",
        "colab_type": "text"
      },
      "source": [
        "<a href=\"https://colab.research.google.com/github/Alcidespiskka/ProjetoCSharp/blob/main/Python_Exercicio_String_e_Repeticao.ipynb\" target=\"_parent\"><img src=\"https://colab.research.google.com/assets/colab-badge.svg\" alt=\"Open In Colab\"/></a>"
      ]
    },
    {
      "cell_type": "code",
      "execution_count": null,
      "metadata": {
        "id": "RDnxYaNBVV2u"
      },
      "outputs": [],
      "source": [
        "#imprimindo texto por posição\n",
        "texto = ' curso de python '\n",
        "print(texto[2])\n",
        "#apartir da 9 posição  até a posição 15\n",
        "print(texto[9:15])\n",
        "#apartir da 9 posição  até a posição 15, pulando de dois em dois\n",
        "print(texto[9:15:2])\n",
        "#do  inicio até a 8 posição\n",
        "print(texto[:8])\n",
        "#da 8 posição até a ultima\n",
        "print(texto[8:])\n",
        "#len verifica o tamanho do texto\n",
        "print(len(texto))\n",
        "# count conta quantas vezes aparece a plavra, caso não tenha retorna 0\n",
        "print(texto.count('python'))\n",
        "#find verifica se tem na frase e mostra a primeira posição\n",
        "print(texto.find('python'))\n",
        "#verifica se tem na frase e retorna True ou False\n",
        "print('Python' in texto)\n",
        "#subistitui a palavra antiga pela nova\n",
        "print(texto.replace('python', 'Java'))\n",
        "#todas a letras maiusculas\n",
        "print(texto.upper())\n",
        "#todas a letras minusculas\n",
        "print(texto.lower())\n",
        "#apenas a primeira maiuscula\n",
        "print(texto.capitalize())\n",
        "# a primeira de cada palavra maiuscula\n",
        "print(texto.title())\n",
        "#strip remove os espaços inuteis\n",
        "print(texto.strip())\n",
        "#rstrip remove os espaços inuteis da direita\n",
        "print(texto.rstrip())\n",
        "#lstrip remove os espaços inuteis da esquerda\n",
        "print(texto.lstrip())\n",
        "#adiciona o caracter no meio de cada caracter\n",
        "print(\"+\".join(texto))\n",
        "#divide a frase em um array\n",
        "print(texto.split())\n",
        "#divide a frase em um array e mostra a ultima palavra\n",
        "fraseDividida=texto.split()\n",
        "print(fraseDividida[-1])\n",
        "#encontra aultima vez que aparce a plavra python\n",
        "print(texto.rfind('python')"
      ]
    },
    {
      "cell_type": "code",
      "source": [
        "# DESAFIO 22\n",
        "# Crie um programa que leia o nome completo de uma pessoas e\n",
        "# mostre\n",
        "\n",
        "nome=input('digite o seu nome').strip()\n",
        "# O nome com todas as letras maiúsculas\n",
        "print(nome.upper())\n",
        "# O nome com todas as letras minúsculas\n",
        "print(nome.lower())\n",
        "# Quantas letras ao todo (sem considerar espaços)\n",
        "tamanho=len(nome)-nome.count(' ')\n",
        "print(tamanho)\n",
        "print(len(nome)-nome.count(' '))\n",
        "print(len(nome.replace(' ', '')))\n",
        "nomesemespaco=nome.replace(' ','')\n",
        "print(len(nomesemespaco))\n",
        "# Quantas letras tem o primeiro nome\n",
        "primeironome=nome.find(' ')\n",
        "print(primeironome)\n",
        "nomedividido=nome.split()\n",
        "print(len(nomedividido[0]))"
      ],
      "metadata": {
        "id": "4AILwajam_o0"
      },
      "execution_count": null,
      "outputs": []
    },
    {
      "cell_type": "code",
      "source": [
        "# DESAFIO 24\n",
        "# Crie um programa que leia o nome de uma cidade e diga se ela\n",
        "# começa ou não com o nome \"Santo“.\n",
        "cidade=input('digite o nome da cidade:\\n\\n')\n",
        "print('começa ou não com o nome \"Santo“ ?')\n",
        "conferencia=cidade[0:5]\n",
        "print('santo' in cidade[0:5])\n",
        "print('santo' in conferencia)\n",
        "#\n"
      ],
      "metadata": {
        "id": "OUhBL0Jusq1V"
      },
      "execution_count": null,
      "outputs": []
    },
    {
      "cell_type": "code",
      "source": [
        "# DESAFIO 25\n",
        "# Crie um programa que leia o nome de uma pessoa e diga se\n",
        "# ela tem \"Silva\" no nome\n",
        "nome=input('digite seu nome:\\n').lower()\n",
        "print('tem \"Silva\" no nome ?')\n",
        "print('silva' in nome)\n"
      ],
      "metadata": {
        "id": "y0J6vpZdX2nj"
      },
      "execution_count": null,
      "outputs": []
    },
    {
      "cell_type": "code",
      "source": [
        "# DESAFIO 26\n",
        "# Faça um programa que leia uma frase pelo teclado e mostre:\n",
        "frase='Faça um programa que leia uma frase pelo teclado e mostre'\n",
        "# Quantas vezes aparece a letra \"A\"\n",
        "print(f'A letra \"A\" apareceu {frase.count('a')} vezes') # o f antes das aspas permite usar {} para colocar comandos no meio dos textos.\n",
        "# Em que posição ela aparece a primeira vez\n",
        "contagem=frase.find('a')+1\n",
        "print(contagem)\n",
        "print(f\"A letra 'A' aparece a primeira vez na posição {frase.find('a')+1}\")\n",
        "# Em que posição ela aparece a ultima vez\n",
        "print(f\"A letra 'A' aparece a ultima vez na posição {frase.rfind('a')+1}\")"
      ],
      "metadata": {
        "id": "SPJJ88RuXzfb"
      },
      "execution_count": null,
      "outputs": []
    },
    {
      "cell_type": "code",
      "source": [],
      "metadata": {
        "id": "bM48O2DfjcrR"
      },
      "execution_count": null,
      "outputs": []
    },
    {
      "cell_type": "code",
      "source": [
        "#Desafio 27\n",
        "#Faça um programa que leia o nome completo de uma pessoa, mostrando em seguida\n",
        "# o primeiro e o último nome separadamente.\n",
        "Nome=input('Digite um nome completo: ')\n",
        "NomeDividido=Nome.split()\n",
        "print(f'O primeiro nome é: {NomeDividido[0]}.')\n",
        "print(f'O último nome é: {NomeDividido[-1]}.')\n",
        "# print(NomeDividido[1])\n",
        "#print(Nome.count('a'))#conta quantas vezes aparece a letra 'a' no nome fornecido\n",
        "#\n"
      ],
      "metadata": {
        "id": "sC6Izt5XmVRT"
      },
      "execution_count": null,
      "outputs": []
    },
    {
      "cell_type": "code",
      "source": [
        "media=float(input('Informe a media:'))\n",
        "if media>5:\n",
        "    print('Aprovado')\n",
        "else:\n",
        "    print('Reprovado')"
      ],
      "metadata": {
        "colab": {
          "base_uri": "https://localhost:8080/"
        },
        "id": "pJDWBGDtwUto",
        "outputId": "03b43dfb-5f72-42af-ce9d-92a15dd82bad"
      },
      "execution_count": null,
      "outputs": [
        {
          "output_type": "stream",
          "name": "stdout",
          "text": [
            "Informe a media:4\n",
            "Reprovado\n"
          ]
        }
      ]
    },
    {
      "cell_type": "code",
      "source": [
        "media=float(input('Informe a media:'))\n",
        "print('Aprovado' if media>5 else 'Reprovado') #condição simplificada\n"
      ],
      "metadata": {
        "colab": {
          "base_uri": "https://localhost:8080/"
        },
        "id": "epQS2TsgxC0I",
        "outputId": "beb1b65a-fc9e-4cf1-b371-9b0e3ef5e2ce"
      },
      "execution_count": null,
      "outputs": [
        {
          "output_type": "stream",
          "name": "stdout",
          "text": [
            "Informe a media:7\n",
            "Aprovado\n"
          ]
        }
      ]
    },
    {
      "cell_type": "code",
      "source": [
        "#Desafio 28\n",
        "import random as rd\n",
        "numPC=rd.randint(0,5)#gera um numero aleatorio inteiro entre 0 e 5\n",
        "jogador=int(input('Tente acertar o numero do pc (0 até 5): '))\n",
        "if jogador==numPC:\n",
        "  print('Ganhou!')\n",
        "else:\n",
        "  print(f'Perdeu! O número sorteado foi {numPC}.')\n"
      ],
      "metadata": {
        "id": "xiwjR5BHzIig"
      },
      "execution_count": null,
      "outputs": []
    },
    {
      "cell_type": "code",
      "source": [
        "#Desafio 29\n",
        "vel=float(input('Informe a velocidade do carro: '))\n",
        "if vel > 80:\n",
        "  print('Voce foi multado!')\n",
        "  multa=(vel-80)*7\n",
        "  print(f'O valor da multa é de R${multa:.2f}.')\n",
        "else:\n",
        "  print('Voce não foi multado!')\n",
        "#"
      ],
      "metadata": {
        "id": "GGPNGqOp28Mw"
      },
      "execution_count": null,
      "outputs": []
    },
    {
      "cell_type": "code",
      "source": [
        "#Desafio 30\n",
        "#Crie um programa que leia um numero inteiro e mostre na tela se ele é par ou # #imoar\n",
        "num=int(input('Digite um numero inteiro: '))\n",
        "if num%2==0:\n",
        "  print(f'O numero {num} é par.')\n",
        "else:\n",
        "  print(f'O numero {num} é impar.')\n",
        "#"
      ],
      "metadata": {
        "id": "hUm_K1q5CCcH"
      },
      "execution_count": null,
      "outputs": []
    },
    {
      "cell_type": "code",
      "source": [
        "#Desafio 31\n",
        "#Desenvolva um programa que pergunte a distancia de uma viagem em Km. Calcule o preço da passagem, cobrando R$0,50 por Km para viagens de até 200Km e R$0,45 para viagens mais longas.\n",
        "dist=float(input('Informe a distancia da viagem em Km: '))\n",
        "if dist >200:\n",
        "  print(f'O valor da passagem é de R${dist*0.45:.2f}.')\n",
        "else:\n",
        "  print(f'O valor da passagem é de R${dist*0.50:.2f}.')\n",
        "#\n"
      ],
      "metadata": {
        "colab": {
          "base_uri": "https://localhost:8080/"
        },
        "id": "vGLHBTMRCeCi",
        "outputId": "841b7043-71d9-48cc-898c-ef6101ba8f1b"
      },
      "execution_count": null,
      "outputs": [
        {
          "output_type": "stream",
          "name": "stdout",
          "text": [
            "Informe a distancia da viagem em Km: 100\n",
            "O valor da passagem é de R$50.00.\n"
          ]
        }
      ]
    },
    {
      "cell_type": "code",
      "source": [
        "#Desafio 32\n",
        "#Faça um programa que leia um ano qualquer e mostre se ele é bissexto.\n",
        "#o ano bissexto é divisivel por 4, mas não por 100, a menos que\n",
        "#também seja divisivel por 400\n",
        "ano=int(input('Informe um ano: '))\n",
        "if ano%4==0 and ano%100!=0 or ano%400==0:\n",
        "  print(f'O ano {ano} é bissexto.')\n",
        "else:\n",
        "  print(f'O ano {ano} NÂO é bissexto.')"
      ],
      "metadata": {
        "id": "s2fa2G8_MNVp",
        "colab": {
          "base_uri": "https://localhost:8080/"
        },
        "outputId": "ab22d3e9-9173-4be1-cb66-adbb92c9c852"
      },
      "execution_count": 29,
      "outputs": [
        {
          "output_type": "stream",
          "name": "stdout",
          "text": [
            "Informe um ano: 2024\n",
            "O ano 2024 é bissexto.\n"
          ]
        }
      ]
    },
    {
      "cell_type": "code",
      "source": [
        "#Desafio 33\n",
        "#Faça um programa que leia três numeros e mostre qual é o maior e qual é o\n",
        "#menor\n",
        "num1=int(input('Informe o primeiro numero: '))\n",
        "num2=int(input('Informe o segundo numero: '))\n",
        "num3=int(input('Informe o terceiro numero: '))\n",
        "maior=num1\n",
        "if num2>maior:\n",
        "  maior=num2\n",
        "if num3>maior:\n",
        "  maior=num3\n",
        "print(f'O maior numero é {maior}')\n",
        "menor=num1\n",
        "if num2<menor:\n",
        "  menor=num2\n",
        "if num3<menor:\n",
        "  menor=num3\n",
        "print(f'O menor numero é {menor}')\n",
        "#\n"
      ],
      "metadata": {
        "id": "Ev7u0jZVNPP1"
      },
      "execution_count": null,
      "outputs": []
    },
    {
      "cell_type": "code",
      "source": [
        "#Desafio 33 (outra solução)\n",
        "lista=[]\n",
        "for i in range (1,4):\n",
        "  num=int(input(f'Informe o {i}° número: '))\n",
        "  lista.append(num)\n",
        "print(f'O maior numero é {max(lista)}.')\n",
        "print(f'O menor numero é {min(lista)}.')\n",
        "#"
      ],
      "metadata": {
        "id": "6PlScNvhOG69"
      },
      "execution_count": null,
      "outputs": []
    },
    {
      "cell_type": "code",
      "source": [
        "#Desafio 34\n",
        "#Escreva um programa que pergunte o salario de um funcionario e calcule o valor do seu aumento.\n",
        "#Para salarios superiores a R$1250,00, calcule um aumento de\n",
        "#10%. Para os inferiores ou iguais, o aumento é de 15%.\n",
        "sal=float(input('Informe o salario: '))\n",
        "if sal>1250:\n",
        "  print(f'O novo salario é de R${sal*1.1:.2f}.')\n",
        "else:\n",
        "  print(f'O novo salario é de R${sal*1.15 :.2f}.')\n",
        "#"
      ],
      "metadata": {
        "colab": {
          "base_uri": "https://localhost:8080/"
        },
        "id": "pTWSYQpzXcnQ",
        "outputId": "1d2275bd-6c0d-4af1-fa67-113cec219fe1"
      },
      "execution_count": 31,
      "outputs": [
        {
          "output_type": "stream",
          "name": "stdout",
          "text": [
            "Informe o salario: 1000\n",
            "O novo salario é de R$1150.00.\n"
          ]
        }
      ]
    }
  ]
}